{
 "cells": [
  {
   "cell_type": "markdown",
   "metadata": {},
   "source": [
    "# Build a simple [or] logical gate as a function, parameterized by (a ,b)"
   ]
  },
  {
   "cell_type": "code",
   "execution_count": 29,
   "metadata": {},
   "outputs": [],
   "source": [
    "import numpy as np"
   ]
  },
  {
   "cell_type": "code",
   "execution_count": 30,
   "metadata": {},
   "outputs": [],
   "source": [
    "dataset = np.array([\n",
    "    [0,0,0],\n",
    "    [0,1,1],\n",
    "    [1,0,1],\n",
    "    [1,1,1]\n",
    "])\n",
    "\n",
    "X = dataset[:, :2]\n",
    "Y = dataset[:, -1:]"
   ]
  },
  {
   "cell_type": "code",
   "execution_count": 31,
   "metadata": {},
   "outputs": [
    {
     "data": {
      "text/plain": [
       "array([[0, 0],\n",
       "       [0, 1],\n",
       "       [1, 0],\n",
       "       [1, 1]])"
      ]
     },
     "execution_count": 31,
     "metadata": {},
     "output_type": "execute_result"
    }
   ],
   "source": [
    "X"
   ]
  },
  {
   "cell_type": "code",
   "execution_count": 32,
   "metadata": {},
   "outputs": [
    {
     "data": {
      "text/plain": [
       "array([[0],\n",
       "       [1],\n",
       "       [1],\n",
       "       [1]])"
      ]
     },
     "execution_count": 32,
     "metadata": {},
     "output_type": "execute_result"
    }
   ],
   "source": [
    "Y"
   ]
  },
  {
   "cell_type": "markdown",
   "metadata": {},
   "source": [
    "# Linear Combination"
   ]
  },
  {
   "cell_type": "markdown",
   "metadata": {},
   "source": [
    "![gate-neuron.png](gate-neuron.png)"
   ]
  },
  {
   "cell_type": "code",
   "execution_count": 34,
   "metadata": {},
   "outputs": [],
   "source": [
    "# y = a X1 + b X2 + c\n",
    "\n",
    "# y = m x + b y = params[\"a\"] * X1_ + params[\"b\"] * X2_ + params[\"c\"]\n"
   ]
  },
  {
   "cell_type": "code",
   "execution_count": 35,
   "metadata": {},
   "outputs": [],
   "source": [
    "hyper_param = {\n",
    "    \"LR\": 0.01\n",
    "}\n",
    "\n",
    "params = {\n",
    "    \"a\": 0.1, \"b\": 0.1, \"c\": 0.2\n",
    "}\n",
    "\n",
    "def predict(X1_ , X2_):\n",
    "    y = params[\"a\"] * X1_ + params[\"b\"] * X2_ + params[\"c\"]\n",
    "    return y\n",
    "\n",
    "def mse(y, y_hat):\n",
    "    return (y - y_hat)**2"
   ]
  },
  {
   "cell_type": "code",
   "execution_count": 36,
   "metadata": {},
   "outputs": [
    {
     "name": "stdout",
     "output_type": "stream",
     "text": [
      "Every 0 epoch\n",
      "Every 200 epoch\n",
      "Every 400 epoch\n",
      "Every 600 epoch\n",
      "Every 800 epoch\n"
     ]
    }
   ],
   "source": [
    "# INPUTS , OUTPUTS\n",
    "\n",
    "metrics = {\n",
    "    \"loss\": [],\n",
    "    \"acc\":[]\n",
    "}\n",
    "\n",
    "\n",
    "for e in range(1000):\n",
    "    \n",
    "    if e%200 == 0:\n",
    "        print(f\"Every {e} epoch\")\n",
    "    \n",
    "    for i in range(len(X)):\n",
    "        x1, x2 = X[i];\n",
    "        y = Y[i][0]\n",
    "\n",
    "        # FORWARD PASS\n",
    "        y_hat = predict(x1, x2)\n",
    "        loss = mse( y , y_hat )\n",
    "        \n",
    "        metrics[\"loss\"].append(loss)\n",
    "\n",
    "        \"\"\"\n",
    "        Compute the gradient with respect to a,b,c\n",
    "        y = a X1 + b X2 + c\n",
    "        L = (y - yhat)**2\n",
    "\n",
    "\n",
    "        Delta_L_a = -2 X1 ( y - (a X1 + b X2 + c))\n",
    "        Delta_L_b = -2 X2 ( y - (a X1 + b X2 + c))\n",
    "        Delta_L_c = -2 ( y - (a X1 + b X2 + c))\n",
    "        \"\"\"\n",
    "\n",
    "        Delta_L_a =  (-2 * x1) * ( y - (( params.get(\"a\") * x1) + ( params.get(\"b\") * x2) + params.get(\"c\")))\n",
    "        Delta_L_b =  (-2 * x2) * ( y - (( params.get(\"a\") * x1) + ( params.get(\"b\") * x2) + params.get(\"c\")))\n",
    "        Delta_L_c =  (-2 ) * ( y - (( params.get(\"a\") * x1) + ( params.get(\"b\") * x2) + params.get(\"c\")))\n",
    "\n",
    "\n",
    "        # UPDATE Params\n",
    "        params[\"a\"] = params[\"a\"] - hyper_param['LR'] *(Delta_L_a)\n",
    "        params[\"b\"] = params[\"b\"] - hyper_param['LR'] * (Delta_L_b)\n",
    "        params[\"c\"] = params[\"c\"] - hyper_param['LR'] *(Delta_L_c)"
   ]
  },
  {
   "cell_type": "code",
   "execution_count": 37,
   "metadata": {},
   "outputs": [
    {
     "data": {
      "text/plain": [
       "{'a': 0.48979531937980286, 'b': 0.4948973540615702, 'c': 0.2551027727443367}"
      ]
     },
     "execution_count": 37,
     "metadata": {},
     "output_type": "execute_result"
    }
   ],
   "source": [
    "params"
   ]
  },
  {
   "cell_type": "code",
   "execution_count": 38,
   "metadata": {},
   "outputs": [
    {
     "name": "stdout",
     "output_type": "stream",
     "text": [
      "Loss = 0.06507742466184868, y = 0 , y_hat= 0.2551027727443367\n",
      "Loss = 0.062499936597062634, y = 1 , y_hat= 0.7500001268059069\n",
      "Loss = 0.06507698340190403, y = 1 , y_hat= 0.7448980921241395\n",
      "Loss = 0.05750185601140359, y = 1 , y_hat= 1.2397954461857097\n"
     ]
    }
   ],
   "source": [
    "for i in range(len(X)):\n",
    "    x1, x2 = X[i];\n",
    "    y = Y[i][0]\n",
    "\n",
    "    # FORWARD PASS\n",
    "    y_hat = predict(x1, x2)\n",
    "    loss = mse( y , y_hat )\n",
    "    print(f\"Loss = {loss}, y = {y} , y_hat= {y_hat}\")"
   ]
  },
  {
   "cell_type": "code",
   "execution_count": 39,
   "metadata": {},
   "outputs": [],
   "source": [
    "import matplotlib.pyplot as plt"
   ]
  },
  {
   "cell_type": "code",
   "execution_count": 40,
   "metadata": {},
   "outputs": [
    {
     "data": {
      "image/png": "[encoded data removed]",
      "text/plain": [
       "<matplotlib.figure.Figure at 0x7fcfbd59a2e8>"
      ]
     },
     "metadata": {},
     "output_type": "display_data"
    }
   ],
   "source": [
    "plt.plot(np.arange(len(metrics[\"loss\"])), metrics[\"loss\"] )\n",
    "plt.show()"
   ]
  },
  {
   "cell_type": "markdown",
   "metadata": {},
   "source": [
    "# Extending Linear combination with Sigmoid unit\n",
    "- To push the output values from real number to [ 0 - 1 ]"
   ]
  },
  {
   "cell_type": "markdown",
   "metadata": {},
   "source": [
    "![gate-neuron-with-sigmoid.png](gate-neuron-with-sigmoid.png)"
   ]
  },
  {
   "cell_type": "markdown",
   "metadata": {},
   "source": [
    "# Sigmoid Function\n",
    "![https://cdn-images-1.medium.com/max/1600/1*XxxiA0jJvPrHEJHD4z893g.png](https://cdn-images-1.medium.com/max/1600/1*XxxiA0jJvPrHEJHD4z893g.png)"
   ]
  },
  {
   "cell_type": "code",
   "execution_count": 41,
   "metadata": {},
   "outputs": [],
   "source": [
    "def sig(x):\n",
    "    \"\"\"\n",
    "    Take a real number x in range (-Inf , +Inf)\n",
    "    And pushes the values to (0, 1)\n",
    "    \"\"\"\n",
    "    \n",
    "    return 1 / (1  + np.exp(-x))"
   ]
  },
  {
   "cell_type": "code",
   "execution_count": 42,
   "metadata": {},
   "outputs": [
    {
     "data": {
      "image/png": "[encoded data removed]",
      "text/plain": [
       "<matplotlib.figure.Figure at 0x7fcfbcc1eac8>"
      ]
     },
     "metadata": {},
     "output_type": "display_data"
    }
   ],
   "source": [
    "testx = np.arange(-10, 10)\n",
    "testy = sig(testx)\n",
    "\n",
    "#plot the graph\n",
    "plt.plot(testx,  testy)\n",
    "plt.show()"
   ]
  },
  {
   "cell_type": "markdown",
   "metadata": {},
   "source": [
    "# Derivative of sigmoid func"
   ]
  },
  {
   "cell_type": "code",
   "execution_count": 10,
   "metadata": {},
   "outputs": [],
   "source": [
    "# If you derive the math\n",
    "# sigmoid(x) * (1 - sigmoid(x))"
   ]
  },
  {
   "cell_type": "code",
   "execution_count": 11,
   "metadata": {},
   "outputs": [],
   "source": [
    "# y = a X1 + b X2 + c\n",
    "# z =  sigmoid ( y )\n",
    "\n",
    "# y = m x + b y = params[\"a\"] * X1_ + params[\"b\"] * X2_ + params[\"c\"]\n",
    "# z = sigmoid(y)"
   ]
  },
  {
   "cell_type": "code",
   "execution_count": null,
   "metadata": {},
   "outputs": [],
   "source": [
    "\"\"\"\n",
    "Compute the gradient with respect to a,b,c\n",
    "        z = a X1 + b X2 + c\n",
    "        y = sig(z)\n",
    "        L = (y - yhat)**2\n",
    "\n",
    "Result:\n",
    "Delta_L_a = -2 X1 ( y - sig(z)) * ( sig(z) * (1- sig(z)) )\n",
    "Delta_L_b = -2 X2 ( y - sig(z)) * ( sig(z) * (1- sig(z)) )\n",
    "Delta_L_c = -2 ( y - sig(z)) * ( sig(z) * (1- sig(z)) )\n",
    "\"\"\""
   ]
  },
  {
   "cell_type": "markdown",
   "metadata": {},
   "source": [
    "![gradient-proof.jpeg](gradient-proof.jpeg)"
   ]
  },
  {
   "cell_type": "markdown",
   "metadata": {},
   "source": [
    "## Now"
   ]
  },
  {
   "cell_type": "code",
   "execution_count": 43,
   "metadata": {},
   "outputs": [],
   "source": [
    "hyper_param = {\n",
    "    \"LR\": 0.01\n",
    "}\n",
    "\n",
    "params = {\n",
    "    \"a\": 0.1, \"b\": 0.1, \"c\": 0.2\n",
    "}\n",
    "\n",
    "def predict(X1_ , X2_):\n",
    "    y = params[\"a\"] * X1_ + params[\"b\"] * X2_ + params[\"c\"]\n",
    "    return y\n",
    "\n",
    "def mse(y, y_hat):\n",
    "    return (y - y_hat)**2"
   ]
  },
  {
   "cell_type": "code",
   "execution_count": 55,
   "metadata": {
    "scrolled": true
   },
   "outputs": [],
   "source": [
    "# INPUTS , OUTPUTS\n",
    "\n",
    "metrics = {\n",
    "    \"loss\": [],\n",
    "    \"acc\":[]\n",
    "}\n",
    "\n",
    "for e in range(1000):\n",
    "    \n",
    "    if e%200 == 0:\n",
    "        print(f\"Every {e} epoch\")\n",
    "    \n",
    "    for i in range(len(X)):\n",
    "        x1, x2 = X[i];\n",
    "        y = Y[i][0]\n",
    "\n",
    "        # FORWARD PASS\n",
    "        z = predict(x1, x2)\n",
    "        y_hat = sig(z)\n",
    "        loss = mse( y , y_hat )\n",
    "        \n",
    "        metrics[\"loss\"].append(loss)\n",
    "\n",
    "        \"\"\"\n",
    "        Compute the gradient with respect to a,b,c\n",
    "        z = a X1 + b X2 + c\n",
    "        y = sig(z)\n",
    "        L = (y - yhat)**2\n",
    "\n",
    "\n",
    "        Delta_L_a = -2 X1 ( y - sig(z)) * ( sig(z) * (1- sig(z)) )\n",
    "        Delta_L_b = -2 X2 ( y - sig(z)) * ( sig(z) * (1- sig(z)) )\n",
    "        Delta_L_c = -2 ( y - sig(z)) * ( sig(z) * (1- sig(z)) )\n",
    "        \"\"\"\n",
    "\n",
    "        Delta_L_a =  (-2 * x1) * ( y - sig(z)) * ( sig(z) * (1- sig(z)) )\n",
    "        Delta_L_b =  (-2 * x2) * ( y - sig(z)) * ( sig(z) * (1- sig(z)) )\n",
    "        Delta_L_c =  (-2 ) * ( y - sig(z)) * ( sig(z) * (1- sig(z)) )\n",
    "\n",
    "\n",
    "        # UPDATE Params\n",
    "        params[\"a\"] = params[\"a\"] - hyper_param['LR'] *(Delta_L_a)\n",
    "        params[\"b\"] = params[\"b\"] - hyper_param['LR'] * (Delta_L_b)\n",
    "        params[\"c\"] = params[\"c\"] - hyper_param['LR'] *(Delta_L_c)"
   ]
  },
  {
   "cell_type": "code",
   "execution_count": 52,
   "metadata": {},
   "outputs": [
    {
     "data": {
      "text/plain": [
       "{'a': 7.067691747362967, 'b': 7.06771094286703, 'c': -3.2939169506022594}"
      ]
     },
     "execution_count": 52,
     "metadata": {},
     "output_type": "execute_result"
    }
   ],
   "source": [
    "params"
   ]
  },
  {
   "cell_type": "code",
   "execution_count": 53,
   "metadata": {},
   "outputs": [
    {
     "name": "stdout",
     "output_type": "stream",
     "text": [
      "Loss = 0.001280241619820145, y = 0 , y_hat= 0.03578046422029967\n",
      "Loss = 0.0005039678504489952, y = 1 , y_hat= 0.977550771718186\n",
      "Loss = 0.0005039867642897402, y = 1 , y_hat= 0.9775503504639885\n",
      "Loss = 3.829906192309967e-10, y = 1 , y_hat= 0.9999804298538781\n"
     ]
    }
   ],
   "source": [
    "for i in range(len(X)):\n",
    "    x1, x2 = X[i];\n",
    "    y = Y[i][0]\n",
    "\n",
    "    # FORWARD PASS\n",
    "    z = predict(x1, x2)\n",
    "    y_hat = sig(z)\n",
    "    loss = mse( y , y_hat )\n",
    "    print(f\"Loss = {loss}, y = {y} , y_hat= {y_hat}\")"
   ]
  },
  {
   "cell_type": "code",
   "execution_count": 54,
   "metadata": {},
   "outputs": [
    {
     "data": {
      "image/png": "[encoded data removed]",
      "text/plain": [
       "<matplotlib.figure.Figure at 0x7fcfbd4b6f60>"
      ]
     },
     "metadata": {},
     "output_type": "display_data"
    }
   ],
   "source": [
    "plt.plot(np.arange(len(metrics[\"loss\"])), metrics[\"loss\"] )\n",
    "plt.show()"
   ]
  },
  {
   "cell_type": "code",
   "execution_count": null,
   "metadata": {},
   "outputs": [],
   "source": []
  }
 ],
 "metadata": {
  "kernelspec": {
   "display_name": "Python 3",
   "language": "python",
   "name": "python3"
  },
  "language_info": {
   "codemirror_mode": {
    "name": "ipython",
    "version": 3
   },
   "file_extension": ".py",
   "mimetype": "text/x-python",
   "name": "python",
   "nbconvert_exporter": "python",
   "pygments_lexer": "ipython3",
   "version": "3.6.5"
  }
 },
 "nbformat": 4,
 "nbformat_minor": 2
}
